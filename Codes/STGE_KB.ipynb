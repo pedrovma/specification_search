{
 "cells": [
  {
   "cell_type": "markdown",
   "id": "6959b4d1",
   "metadata": {},
   "source": [
    "# STGE Specification Search with GNS DGP - KB Tests\n",
    "\n",
    "The purpose of this template is to implement and analyze an updated STGE strategy based on the Koley-Bera tests from SEA 2024 for a GNS DGP with varying values for $\\gamma$, $\\rho$ and $\\lambda$ when the model is estimated without WX, i.e., a classic regression. This includes spatial Durbin models ($\\lambda = 0$), SLX error models ($\\rho = 0$), standard SLX regression ($\\rho = \\lambda = 0$), and for $\\gamma = 0$, the standard spatial error ($\\rho = 0$), spatial lag ($\\lambda = 0$ and standard regression model ($\\rho$ = $\\lambda$ = 0).\n",
    "\n",
    "The true DGP is GNS, i.e., using dgp_gns. Model estimation is OLS, so no WX taken into account.\n",
    "\n",
    "This design is revised from the original one to read in any spatial layout specified as a shapefile and associated spatial weights matrix."
   ]
  },
  {
   "cell_type": "markdown",
   "id": "959587c5",
   "metadata": {},
   "source": [
    "# Modules"
   ]
  },
  {
   "cell_type": "code",
   "execution_count": null,
   "id": "f64cfaa5",
   "metadata": {},
   "outputs": [],
   "source": [
    "import warnings\n",
    "warnings.filterwarnings(\"ignore\")\n",
    "import pandas as pd\n",
    "import geopandas as gpd\n",
    "import numpy as np\n",
    "import time\n",
    "import spreg\n",
    "import libpysal\n",
    "from openpyxl import Workbook\n",
    "from openpyxl.styles import Font\n",
    "from openpyxl.formatting.rule import CellIsRule"
   ]
  },
  {
   "cell_type": "code",
   "execution_count": null,
   "id": "64ad7c70",
   "metadata": {},
   "outputs": [],
   "source": [
    "print(\"pandas \",pd.__version__)\n",
    "print(\"geopandas \",gpd.__version__)\n",
    "print(\"numpy \",np.__version__)\n",
    "print(\"spreg \",spreg.__version__)\n",
    "print(\"libpysal \",libpysal.__version__)"
   ]
  },
  {
   "cell_type": "markdown",
   "id": "3ee0317c",
   "metadata": {},
   "source": [
    "# Specify Data and Weights"
   ]
  },
  {
   "cell_type": "markdown",
   "id": "8a36990d",
   "metadata": {},
   "source": [
    "### 20x20 square grid - queen contiguity - n=400"
   ]
  },
  {
   "cell_type": "code",
   "execution_count": null,
   "id": "b4e10296",
   "metadata": {},
   "outputs": [],
   "source": [
    "#infileshp = \"./data_master/twentwengrid.shp\"\n",
    "#infilew = \"./data_master/grid400_q.gal\"\n",
    "#layout = \"20x20\""
   ]
  },
  {
   "cell_type": "markdown",
   "id": "d934ccb9",
   "metadata": {},
   "source": [
    "### 40x40 square grid - queen contiguity - n=1600"
   ]
  },
  {
   "cell_type": "code",
   "execution_count": null,
   "id": "5cf672c3",
   "metadata": {},
   "outputs": [],
   "source": [
    "#infileshp = \"./data_master/fourty40grid.shp\"\n",
    "#infilew = \"./data_master/fourty40_q.gal\"\n",
    "#layout = \"40x40\""
   ]
  },
  {
   "cell_type": "markdown",
   "id": "15fb13db",
   "metadata": {},
   "source": [
    "### US Counties - queen contiguit - n=3085"
   ]
  },
  {
   "cell_type": "code",
   "execution_count": null,
   "id": "1d2b44cd",
   "metadata": {},
   "outputs": [],
   "source": [
    "infileshp = \"./data_master/uscounty_nodata.shp\"\n",
    "infilew = \"./data_master/uscounty_q.gal\"\n",
    "layout = \"US_counties\""
   ]
  },
  {
   "cell_type": "markdown",
   "id": "b97241fe",
   "metadata": {},
   "source": [
    "### Brazilian municipios - queen contiguity - n=5568"
   ]
  },
  {
   "cell_type": "code",
   "execution_count": null,
   "id": "e2c1e53d",
   "metadata": {},
   "outputs": [],
   "source": [
    "#infileshp = \"./data_master/Brazil_nodata.shp\"\n",
    "#infilew = \"./data_master/Braz_muni_q.gal\"\n",
    "#layout = \"BRA_muni\""
   ]
  },
  {
   "cell_type": "markdown",
   "id": "7a63a0f5",
   "metadata": {},
   "source": [
    "## Read in Data and Weights"
   ]
  },
  {
   "cell_type": "code",
   "execution_count": null,
   "id": "369a9938",
   "metadata": {},
   "outputs": [],
   "source": [
    "dfs = gpd.read_file(infileshp)\n",
    "\n",
    "print(dfs.shape)\n",
    "print(list(dfs))\n",
    "\n",
    "w = libpysal.io.open(infilew).read()\n",
    "w.transform = 'r'\n",
    "n = w.n\n",
    "print(n)"
   ]
  },
  {
   "cell_type": "markdown",
   "id": "651b96f7",
   "metadata": {},
   "source": [
    "## Forward Specification Logic with KB Tests"
   ]
  },
  {
   "cell_type": "markdown",
   "id": "591eaf02",
   "metadata": {},
   "source": [
    "Revised logic, removed branch after all robust tests significant"
   ]
  },
  {
   "cell_type": "code",
   "execution_count": null,
   "id": "48cc81a6",
   "metadata": {},
   "outputs": [],
   "source": [
    "def fw_spec_KB(plmtests, reps, p_value=0.01):\n",
    "    \"\"\"\n",
    "    Forward specification: Evaluate results from LM-tests and their robust versions from spreg.OLS,\n",
    "    based on the new Koley-Bera tests for spatial Durbin\n",
    "    \n",
    "    Arguments:\n",
    "    ----------\n",
    "    plmtests : reps x 3 matrix with p-values from LM tests in OLS\n",
    "               p_RLM_wx,p_RLM_durlag,p_LM_spdurbin\n",
    "               \n",
    "    reps.    : number of replications\n",
    "    \n",
    "    p_value  : significance threshold\n",
    "        \n",
    "    Returns:\n",
    "    ----------\n",
    "    modfreq: the frequency of suggested DGP according to the forward \n",
    "             (specific to general) specification search\n",
    "    \"\"\"\n",
    "\n",
    "\n",
    "    p=p_value\n",
    "    reps=reps    # make sure to get the frequency correctly\n",
    "    \n",
    "    result = np.zeros((reps,4))   # OLS,LAG,SLX,SDM\n",
    "    \n",
    "    for i in range(reps):\n",
    "        \n",
    "        p_rlwx,p_rdury,p_spdur = plmtests[i,:] \n",
    "        \n",
    "        # first check following KB(2024) - joint test on SDM\n",
    "        if p_spdur > p: # not significant\n",
    "            result[i,0] = 1  # OLS\n",
    "        else: # joint test is significant\n",
    "            if p_rlwx < p and p_rdury < p:\n",
    "                result[i,3] = 1 # SDM\n",
    "            elif p_rdury < p:   # only robust lag\n",
    "                result[i,1] = 1  # LAG\n",
    "            elif p_rlwx < p:   # only robust WX\n",
    "                result[i,2] = 1   # SLX\n",
    "            else:   # should never be reached\n",
    "                result[i,0] = 1  # OLS\n",
    "        #print(\"i \",i,\" result \",result[i,:])\n",
    "        \n",
    "                \n",
    "    modcount = result.sum(axis=0)\n",
    "    modfreq = modcount / reps\n",
    "    return modfreq            \n",
    "    "
   ]
  },
  {
   "cell_type": "markdown",
   "id": "43a96a0a",
   "metadata": {},
   "source": [
    "## Model Parameters"
   ]
  },
  {
   "cell_type": "code",
   "execution_count": null,
   "id": "19086d43",
   "metadata": {},
   "outputs": [],
   "source": [
    "# overall random seed\n",
    "rndseed = 123456789\n",
    "# number of replications\n",
    "reps=1000\n",
    "# error process\n",
    "errp = 'sar'\n",
    "#errp = 'ma'\n",
    "# beta and gamma\n",
    "b1 = [1,1]\n",
    "#b1 = [1, 1, 1, 1]\n",
    "# rho range and lambda range\n",
    "rho_values = [0, 0.1, 0.3, 0.5, 0.7, 0.9]\n",
    "lam_values = [0, 0.1, 0.3, 0.5, 0.7, 0.9]\n",
    "# gamma range\n",
    "gam_values = [0, -0.5, 0.5]\n",
    "# result parameter labels\n",
    "diagtests = ['prwx','prdlag','pspdur']\n",
    "models = ['OLS','LAG','SLX','SPDUR']\n",
    "k = len(diagtests)\n",
    "# Nested Dictionary to store results with the sctucture Result[rho][lam]\n",
    "# assumes only a single set of simulations is run, otherwise needs to be initialized for each run\n",
    "# Results1 is dictionary with p-values for tests\n",
    "# Modselect is dictionary with selected model\n",
    "Results1 = {gam: {rho: {lam: {diag: [] for diag in diagtests} for lam in lam_values} \n",
    "                   for rho in rho_values} for gam in gam_values}\n",
    "Modselect = {gam: {rho: {lam: {model: [] for model in models} for lam in lam_values} \n",
    "                   for rho in rho_values} for gam in gam_values}\n",
    "# inverse method - alternative is 'true_inv'\n",
    "invmethod = 'power_exp'\n",
    "# p-value\n",
    "pvalue = 0.01\n",
    "#pvalue = 0.05\n",
    "# error distribution\n",
    "errdist = 'normal'\n",
    "#errdist = 'lognormal'\n",
    "# number of explanatory variables\n",
    "kx = len(b1) - 1"
   ]
  },
  {
   "cell_type": "markdown",
   "id": "c141f1fb",
   "metadata": {},
   "source": [
    "## RHS"
   ]
  },
  {
   "cell_type": "markdown",
   "id": "3ce6805f",
   "metadata": {},
   "source": [
    "X has variance 12, matched with variance 6 for error process, gives approximate R2 of 0.66"
   ]
  },
  {
   "cell_type": "code",
   "execution_count": null,
   "id": "7dd843d2",
   "metadata": {},
   "outputs": [],
   "source": [
    "nk = n*kx\n",
    "var1 = 12.0/kx\n",
    "rng=np.random.default_rng(seed=rndseed) # set for X\n",
    "xx = spreg.dgp.make_x(rng,nk,mu=[0],varu=[var1],method=\"uniform\")\n",
    "if kx > 1:\n",
    "    x1 = np.reshape(xx,(n,kx))\n",
    "else:\n",
    "    x1 = xx\n",
    "xb1 = spreg.dgp.make_xb(x1,b1)\n",
    "wx1 = spreg.dgp.make_wx(x1,w) # default first order"
   ]
  },
  {
   "cell_type": "markdown",
   "id": "1369346a",
   "metadata": {},
   "source": [
    "## Print Settings"
   ]
  },
  {
   "cell_type": "code",
   "execution_count": null,
   "id": "6e961683",
   "metadata": {},
   "outputs": [],
   "source": [
    "print(\"SETTINGS - STGE Search with K-B tests and GNS DGP - OLS Estimation\")\n",
    "print(\"Layout: \",infileshp)\n",
    "print(\"Weights: \",infilew)\n",
    "print(\"n: \",n)\n",
    "print(\"k: \",kx)\n",
    "print(\"Error Process: \",errp)\n",
    "print(\"Error Distribution: \",errdist)\n",
    "print(\"Replications: \",reps)\n",
    "print(\"p-value: \",pvalue)\n",
    "print(\"Inverse Method: \",invmethod)\n",
    "print(\"--------------------------------------\")"
   ]
  },
  {
   "cell_type": "markdown",
   "id": "0b2debde",
   "metadata": {},
   "source": [
    "## Simulation Loop"
   ]
  },
  {
   "cell_type": "code",
   "execution_count": null,
   "id": "3d4d0a81",
   "metadata": {},
   "outputs": [],
   "source": [
    "t0 = time.time()\n",
    "\n",
    "if errdist == 'normal':\n",
    "    vv = 6.0     # var 6 for target R2 of 0.66\n",
    "elif errdist == 'lognormal':\n",
    "    vv = 1.1     # var 1.1 for target R2 of 0.66\n",
    "else:\n",
    "    print(\"Error distribution not recognized\")    # not used\n",
    "\n",
    "for gam in gam_values:\n",
    "    gg=gam\n",
    "    # create a list with multiple gamma values (all same) when more than one x\n",
    "    if kx > 1:\n",
    "        g1 = np.ones(kx)*gg\n",
    "        g1 = g1.tolist()\n",
    "    else:\n",
    "        g1 = gg\n",
    "        \n",
    "    wxg1 = spreg.dgp.make_wxg(wx1,g1) \n",
    "    for rho in rho_values:\n",
    "        rho1=rho\n",
    "        for lam in lam_values:\n",
    "            lam1=lam\n",
    "            if not(rho1 + lam1 < 1):\n",
    "                break\n",
    "            else:\n",
    "                print(g1,rho1,lam1)\n",
    "                rng=np.random.default_rng(seed=rndseed) # reset for simulations\n",
    "                for i in range (reps):\n",
    "                    \n",
    "                    u= spreg.dgp.make_error(rng,n,mu=0,varu=vv,method=errdist)  # error distribution as parameter\n",
    "                    # DGP is GNS\n",
    "                    y1 = spreg.dgp_gns(u,xb1,wxg1,w,rho1,lam1, model= errp)\n",
    "                    # estimate OLS\n",
    "                    model_ols_1 = spreg.OLS(y1,x1,w=w,slx_lags=0,spat_diag=True)\n",
    "                    #print(model_ols_1.summary)\n",
    "                    pvals = [model_ols_1.rlm_wx[1],model_ols_1.rlm_durlag[1],\n",
    "                             model_ols_1.lm_spdurbin[1]]\n",
    "                    \n",
    "                    for j in range(k):\n",
    "                        Results1[gam][rho][lam][diagtests[j]].append(pvals[j])\n",
    "                    \n",
    "                    \n",
    "\n",
    "t1 = time.time()\n",
    "print(\"time in minutes: \",(t1-t0)/60.0)"
   ]
  },
  {
   "cell_type": "markdown",
   "id": "a37668dc",
   "metadata": {},
   "source": [
    "## Dictionary with Selection Frequencies"
   ]
  },
  {
   "cell_type": "markdown",
   "id": "b557f56f",
   "metadata": {},
   "source": [
    "At this point, Results is a nested dictionary with rho, lam and estimates as keys. Before we carry out forward specification, this must be turned into an array to pass to the forward specification logic."
   ]
  },
  {
   "cell_type": "code",
   "execution_count": null,
   "id": "7439c7fc",
   "metadata": {},
   "outputs": [],
   "source": [
    "for gam in gam_values:\n",
    "    for rho in rho_values:\n",
    "        for lam in lam_values:\n",
    "            if not(rho+lam < 1):\n",
    "                for i in range(len(models)):\n",
    "                    Modselect[gam][rho][lam][models[i]] = 0.0\n",
    "            else:\n",
    "                print(gam,rho,lam)\n",
    "                plmt = [Results1[gam][rho][lam][i] for i in diagtests]\n",
    "                plmtests = np.array(plmt).transpose()\n",
    "                test1 = fw_spec_KB(plmtests,reps,p_value=pvalue)\n",
    "                for i in range(len(models)):\n",
    "                    Modselect[gam][rho][lam][models[i]] = test1[i]"
   ]
  },
  {
   "cell_type": "code",
   "execution_count": null,
   "id": "493f383c",
   "metadata": {
    "scrolled": false
   },
   "outputs": [],
   "source": [
    "lenr = len(rho_values)\n",
    "lenl = len(lam_values)\n",
    "for gam in gam_values:\n",
    "    print(\"GAMMA: \",gam)\n",
    "    print(\"------------\")\n",
    "    modlag = np.zeros((lenr,lenl))\n",
    "    moderr = np.zeros((lenr,lenl))\n",
    "    modslx = np.zeros((lenr,lenl))\n",
    "    for pt in range(len(models)):\n",
    "        mod = models[pt]\n",
    "        modsel = np.zeros((lenr,lenl))\n",
    "        for r in range(lenr):\n",
    "            rr = lenr -1 -r\n",
    "            for c in range(lenl):\n",
    "                rho = rho_values[r]\n",
    "                lam = lam_values[c]\n",
    "                if not(rho+lam < 1):\n",
    "                    modsel[rr,c] = np.nan\n",
    "                else:\n",
    "                    modsel[rr,c] = np.array(Modselect[gam][rho][lam][mod])\n",
    "\n",
    "        print(\"Selection Frequency for\",mod)\n",
    "        print(modsel)"
   ]
  },
  {
   "cell_type": "code",
   "execution_count": null,
   "id": "735d0e2d",
   "metadata": {},
   "outputs": [],
   "source": [
    "#This code is the same as previous cell, but saving in a dictionary instead of printing\n",
    "\n",
    "lenr = len(rho_values)\n",
    "lenl = len(lam_values)\n",
    "data_models={}\n",
    "for gam in gam_values:\n",
    "    data_models[gam] = {}\n",
    "    #print(\"GAMMA: \",gam)\n",
    "    #print(\"------------\")\n",
    "    modlag = np.zeros((lenr,lenl))\n",
    "    moderr = np.zeros((lenr,lenl))\n",
    "    modslx = np.zeros((lenr,lenl))\n",
    "    for pt in range(len(models)):\n",
    "        mod = models[pt]\n",
    "        modsel = np.zeros((lenr,lenl))\n",
    "        for r in range(lenr):\n",
    "            rr = lenr -1 -r\n",
    "            for c in range(lenl):\n",
    "                rho = rho_values[r]\n",
    "                lam = lam_values[c]\n",
    "                if not(rho+lam < 1):\n",
    "                    modsel[rr,c] = np.nan\n",
    "                else:\n",
    "                    modsel[rr,c] = np.array(Modselect[gam][rho][lam][mod])\n",
    "\n",
    "        data_models[gam][mod] = modsel\n",
    "        #print(\"Selection Frequency for\",mod)\n",
    "        #print(modsel)"
   ]
  },
  {
   "cell_type": "code",
   "execution_count": null,
   "id": "515dfb08",
   "metadata": {},
   "outputs": [],
   "source": [
    "#Convert dictionary into dataframe and sotre dataframes in a dictionary\n",
    "results_models={}\n",
    "for mod in models:\n",
    "    data = []\n",
    "    for gam in data_models:\n",
    "        for i, rho in enumerate(rho_values):\n",
    "            for j, lam in enumerate(lam_values):\n",
    "                if rho + lam < 1:  \n",
    "                    data.append({'gamma': gam,  'rho': rho, 'lambda': lam, 'value': data_models[gam][mod][5-i,j]})\n",
    "    # Create DataFrame\n",
    "    df = pd.DataFrame(data)\n",
    "    # Pivot the DataFrame to get the desired shape\n",
    "    pivot_df = df.pivot_table(index=['lambda', 'rho'], columns='gamma', values='value', aggfunc='first')\n",
    "    pivot_df = pivot_df.reset_index()[['rho', 'lambda', 0, -0.5, 0.5]]\n",
    "    # Save the DataFrame in the dictionary, following a specific order\n",
    "    results_models[mod] = pivot_df.iloc[[0,1,2,3,4,5,6,11,15,18,20,7,8,9,10,12,13,14,16,17,19]]"
   ]
  },
  {
   "cell_type": "code",
   "execution_count": null,
   "id": "e1b7aa9b",
   "metadata": {},
   "outputs": [],
   "source": [
    "#Save in Excel format\n",
    "\n",
    "with pd.ExcelWriter(f'003_STGE_KB_SDM_{layout}_{errp}_{errdist}_p_{pvalue}.xlsx', engine='openpyxl') as writer:\n",
    "\n",
    "    ws = writer.book.create_sheet(title='Sheet1')\n",
    "\n",
    "    startrow = 0  # Initial row to start writing the dataframe\n",
    "    for name, df in results_models.items():\n",
    "        \n",
    "        # Write the dataframe name\n",
    "        ws.cell(row=startrow + 1, column=1).value = f\"{name}\"\n",
    "        \n",
    "        # Write the dataframe content\n",
    "        df.round(3).to_excel(writer, sheet_name='Sheet1', startrow=startrow + 1, index=False)       \n",
    "        # Update the startrow for the next dataframe\n",
    "        endrow = startrow + 2 + len(df)\n",
    "        startrow += len(df) + 3  \n",
    "    \n",
    "    # Apply conditional formatting to columns 3, 4, and 5 for specific value ranges\n",
    "    # Define fonts for each color\n",
    "    red_font = Font(color='FF0000')  \n",
    "    wine_font = Font(color='722F37')   \n",
    "    blue_font = Font(color='0000FF')  \n",
    "    green_font = Font(color='00FF00') \n",
    "    columns = ['C', 'D', 'E']  # Corresponding to Excel columns 3, 4, and 5\n",
    "    for col in columns:\n",
    "        \n",
    "        # Rule for Red: value > 0.95\n",
    "        ws.conditional_formatting.add(f'{col}3:{col}{endrow}',\n",
    "                                      CellIsRule(operator='greaterThan', formula=['0.95'], stopIfTrue=True, font=red_font))\n",
    "        # Rule for Wine: 0.9 < value <= 0.95\n",
    "        ws.conditional_formatting.add(f'{col}3:{col}{endrow}',\n",
    "                                      CellIsRule(operator='between', formula=['0.9', '0.95'], stopIfTrue=True, font=wine_font))\n",
    "        # Rule for Blue: 0.75 < value <= 0.9\n",
    "        ws.conditional_formatting.add(f'{col}3:{col}{endrow}',\n",
    "                                      CellIsRule(operator='between', formula=['0.75', '0.9'], stopIfTrue=True, font=blue_font))\n",
    "        # Rule for Green: 0.5 < value <= 0.75\n",
    "        ws.conditional_formatting.add(f'{col}3:{col}{endrow}',\n",
    "                                      CellIsRule(operator='between', formula=['0.5001', '0.75'], stopIfTrue=True, font=green_font))"
   ]
  }
 ],
 "metadata": {
  "kernelspec": {
   "display_name": "Python 3 (ipykernel)",
   "language": "python",
   "name": "python3"
  },
  "language_info": {
   "codemirror_mode": {
    "name": "ipython",
    "version": 3
   },
   "file_extension": ".py",
   "mimetype": "text/x-python",
   "name": "python",
   "nbconvert_exporter": "python",
   "pygments_lexer": "ipython3",
   "version": "3.10.13"
  }
 },
 "nbformat": 4,
 "nbformat_minor": 5
}
